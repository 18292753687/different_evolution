{
 "cells": [
  {
   "cell_type": "code",
   "execution_count": 13,
   "metadata": {},
   "outputs": [],
   "source": [
    "import time \n",
    "import numpy as np\n",
    "import matplotlib.pyplot as plt\n",
    "# target funciton\n",
    "\n",
    "def target(x):\n",
    "    return 100*(x[0]**2-x[1])**2+(1-x[0])**2\n",
    "\n",
    "size=30 #编码个数\n",
    "dimen=2 #编码维数\n",
    "\n",
    "x_max=np.array([2.048,2.048])\n",
    "x_min=np.array([-2.048,-2.048])\n",
    "\n",
    "gener=10 #进化次数\n",
    "F=1.2  #变异因子\n",
    "cr=0.6*np.ones((size,dimen)) #交叉因子"
   ]
  },
  {
   "cell_type": "code",
   "execution_count": 14,
   "metadata": {},
   "outputs": [],
   "source": [
    "# initial x\n",
    "p=x_min+(x_max-x_min)*np.random.random((size,dimen))\n",
    "target_his=[]\n",
    "x_his=[]"
   ]
  },
  {
   "cell_type": "code",
   "execution_count": 15,
   "metadata": {},
   "outputs": [],
   "source": [
    "# evolution\n",
    "t1=time.time()\n",
    "r_index=np.array([range(size),range(size),range(size)])\n",
    "for g in range(gener):\n",
    "    #aberrance\n",
    "    v=h=np.zeros((size,dimen))\n",
    "    r=np.zeros((size,3)).T\n",
    "    t3=time.time()\n",
    "    while (r[0]==r[1]).any()  or (r[0]==r[2]).any() or (r[1]==r[2]).any() or (r==r_index).any() :\n",
    "        r=np.around((size-1)*np.random.random((size,3))).T.astype(int)\n",
    "    h=p[r[0]]+F*(p[r[1]]-p[r[2]])\n",
    "    h=np.where(h<x_max,h,x_max)\n",
    "    h=np.where(h>x_min,h,x_min)\n",
    "    temp=np.random.random((size,dimen))\n",
    "    v=np.where(temp<cr,h,p)\n",
    "    t4=time.time()\n",
    "    \n",
    "    #select\n",
    "    p=np.where(target(v.T).reshape(size,1)>target(p.T).reshape(size,1),v,p)\n",
    "\n",
    "    #update\n",
    "    opt_x=np.argmax(target(p))\n",
    "    x_his.append(p[opt_x])\n",
    "    opt_target=np.max(target(p))\n",
    "    target_his.append(opt_target)\n",
    "\n",
    "t2=time.time()"
   ]
  },
  {
   "cell_type": "code",
   "execution_count": 21,
   "metadata": {},
   "outputs": [
    {
     "name": "stdout",
     "output_type": "stream",
     "text": [
      "花费时间0.1754s\n",
      "最大值3905.9262\n",
      "[-2.048 -2.048]\n"
     ]
    }
   ],
   "source": [
    "print('花费时间%.4fs'%(t2-t1))\n",
    "print('最大值%.4f'%target_his[-1])\n",
    "print(x_his[-1])"
   ]
  },
  {
   "cell_type": "code",
   "execution_count": 17,
   "metadata": {},
   "outputs": [
    {
     "data": {
      "image/png": "[encoded data removed]",
      "text/plain": [
       "<Figure size 432x288 with 1 Axes>"
      ]
     },
     "metadata": {
      "needs_background": "light"
     },
     "output_type": "display_data"
    }
   ],
   "source": [
    "plt.figure()\n",
    "plt.plot(target_his)\n",
    "plt.show()"
   ]
  }
 ],
 "metadata": {
  "kernelspec": {
   "display_name": "Python 3",
   "language": "python",
   "name": "python3"
  },
  "language_info": {
   "codemirror_mode": {
    "name": "ipython",
    "version": 3
   },
   "file_extension": ".py",
   "mimetype": "text/x-python",
   "name": "python",
   "nbconvert_exporter": "python",
   "pygments_lexer": "ipython3",
   "version": "3.7.6"
  }
 },
 "nbformat": 4,
 "nbformat_minor": 4
}
