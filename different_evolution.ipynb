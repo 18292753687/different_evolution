{
 "cells": [
  {
   "cell_type": "code",
   "execution_count": 45,
   "metadata": {},
   "outputs": [],
   "source": [
    "import numpy as np\n",
    "# target funciton\n",
    "\n",
    "def target(x):\n",
    "    return 100*(x[0]**2-x[1])**2+(1-x[0])**2\n",
    "\n",
    "size=30 #编码个数\n",
    "dimen=2 #编码维数\n",
    "\n",
    "x_max=np.array([2.048,2.048])\n",
    "x_min=np.array([-2.048,-2.048])\n",
    "\n",
    "gener=50 #进化次数\n",
    "F=1.2  #变异因子\n",
    "cr=0.9 #交叉因子"
   ]
  },
  {
   "cell_type": "code",
   "execution_count": 49,
   "metadata": {},
   "outputs": [
    {
     "data": {
      "text/plain": [
       "array([ 1.97806685, -1.45793622])"
      ]
     },
     "execution_count": 49,
     "metadata": {},
     "output_type": "execute_result"
    }
   ],
   "source": [
    "# initial x\n",
    "p=x_min+(x_max-x_min)*np.random.rand(size,dimen)\n",
    "# global best\n",
    "x_best=p[0]\n",
    "for i in range(size):\n",
    "    if target(p[i])>target(x_best):\n",
    "        x_best=p[i]\n",
    "target_best=target(x_best)"
   ]
  },
  {
   "cell_type": "code",
   "execution_count": null,
   "metadata": {},
   "outputs": [],
   "source": [
    "# evolution\n",
    "\n",
    "for g in range(gener):\n",
    "    # the g th generation\n",
    "    \n",
    "    for s in range(size):\n",
    "        # the s th x\n",
    "        \n",
    "        # aberrance\n",
    "        r1=r2=r3=0\n",
    "        while r1==r2 or r1==r3 or r2==r3 or r1==i or r2==i or r3==i :\n",
    "            r1=round(size*np.random.rand(1)[0])\n",
    "            r2=round(size*np.random.rand(1)[0])\n",
    "            r3=round(size*np.random.rand(1)[0])\n",
    "        h[s]=p[r1]+F*(p[r2]-p[r3])\n",
    "        h[s]=np.where(h[s]<x_max,h[s],x_max)\n",
    "        h[s]=np.where(h[s]>x_min,h[s],x_min)\n",
    "        \n",
    "        #interact\n",
    "        \n",
    "        "
   ]
  },
  {
   "cell_type": "code",
   "execution_count": 112,
   "metadata": {},
   "outputs": [
    {
     "data": {
      "text/plain": [
       "array([ 1.        , -0.28156786,  1.        ])"
      ]
     },
     "execution_count": 112,
     "metadata": {},
     "output_type": "execute_result"
    }
   ],
   "source": [
    "a=p[0]\n",
    "a[0]=1\n",
    "np.append(a,1)"
   ]
  },
  {
   "cell_type": "code",
   "execution_count": 94,
   "metadata": {},
   "outputs": [],
   "source": [
    "if any([<any(x_max):\n",
    "    print(11)"
   ]
  },
  {
   "cell_type": "code",
   "execution_count": 93,
   "metadata": {},
   "outputs": [
    {
     "data": {
      "text/plain": [
       "False"
      ]
     },
     "execution_count": 93,
     "metadata": {},
     "output_type": "execute_result"
    }
   ],
   "source": [
    "\n"
   ]
  },
  {
   "cell_type": "code",
   "execution_count": null,
   "metadata": {},
   "outputs": [],
   "source": []
  },
  {
   "cell_type": "code",
   "execution_count": null,
   "metadata": {},
   "outputs": [],
   "source": []
  },
  {
   "cell_type": "code",
   "execution_count": null,
   "metadata": {},
   "outputs": [],
   "source": []
  }
 ],
 "metadata": {
  "kernelspec": {
   "display_name": "Python 3",
   "language": "python",
   "name": "python3"
  },
  "language_info": {
   "codemirror_mode": {
    "name": "ipython",
    "version": 3
   },
   "file_extension": ".py",
   "mimetype": "text/x-python",
   "name": "python",
   "nbconvert_exporter": "python",
   "pygments_lexer": "ipython3",
   "version": "3.7.6"
  }
 },
 "nbformat": 4,
 "nbformat_minor": 4
}
