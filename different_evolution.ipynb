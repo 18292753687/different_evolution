{
 "cells": [
  {
   "cell_type": "code",
   "execution_count": 135,
   "metadata": {},
   "outputs": [],
   "source": [
    "import numpy as np\n",
    "# target funciton\n",
    "\n",
    "def target(x):\n",
    "    return 100*(x[0]**2-x[1])**2+(1-x[0])**2\n",
    "\n",
    "size=30 #编码个数\n",
    "dimen=2 #编码维数\n",
    "\n",
    "x_max=np.array([2.048,2.048])\n",
    "x_min=np.array([-2.048,-2.048])\n",
    "\n",
    "gener=500 #进化次数\n",
    "F=1.2  #变异因子\n",
    "cr=0.6*np.ones(dimen) #交叉因子"
   ]
  },
  {
   "cell_type": "code",
   "execution_count": 136,
   "metadata": {},
   "outputs": [],
   "source": [
    "# initial x\n",
    "p=x_min+(x_max-x_min)*np.random.rand(size,dimen)\n",
    "# global best"
   ]
  },
  {
   "cell_type": "code",
   "execution_count": 142,
   "metadata": {},
   "outputs": [],
   "source": [
    "# evolution\n",
    "x_argmax=[]\n",
    "target_max=[]\n",
    "for g in range(gener):\n",
    "    # the g th generation\n",
    "    v=h=np.empty((size,dimen))\n",
    "\n",
    "    for s in range(10):\n",
    "        # the s th x\n",
    "        \n",
    "        # aberrance\n",
    "        r1=r2=r3=0\n",
    "        while r1==r2 or r1==r3 or r2==r3 or r1==s or r2==s or r3==s :\n",
    "            r1=int(size*np.random.rand(1)[0])\n",
    "            r2=int(size*np.random.rand(1)[0])\n",
    "            r3=int(size*np.random.rand(1)[0])\n",
    "        h[s]=p[r1]+F*(p[r2]-p[r3])\n",
    "        h[s]=np.where(h[s]<x_max,h[s],x_max)\n",
    "        h[s]=np.where(h[s]>x_min,h[s],x_min)\n",
    "        \n",
    "        #interact\n",
    "        temp=np.random.rand(dimen)\n",
    "        v[s]=np.where(temp<cr,h[s],p[s])\n",
    "        \n",
    "        #select\n",
    "        p[s]=np.where(target(v[s])>target(p[s]),v[s],p[s]) \n",
    "        \n",
    "        #update"
   ]
  },
  {
   "cell_type": "code",
   "execution_count": 143,
   "metadata": {},
   "outputs": [
    {
     "data": {
      "text/plain": [
       "True"
      ]
     },
     "execution_count": 143,
     "metadata": {},
     "output_type": "execute_result"
    }
   ],
   "source": [
    "r=np.around(size*np.random.random((size,3))).T\n",
    "r_index=np.array([range(size),range(size),range(size)])\n",
    "#(r==r_index or r.T[0]==r.T[1]  or r.T[0]==r.T[2] or r.T[1]==r.T[2]).any()\n",
    "sum(r[0]==r[1]) \n",
    "sum(r[0]==r[2])\n",
    "\n",
    "(r[0]==r[1]).any()"
   ]
  },
  {
   "cell_type": "code",
   "execution_count": 144,
   "metadata": {},
   "outputs": [
    {
     "data": {
      "text/plain": [
       "False"
      ]
     },
     "execution_count": 144,
     "metadata": {},
     "output_type": "execute_result"
    }
   ],
   "source": [
    "target(v[0])>target(p[0])"
   ]
  },
  {
   "cell_type": "code",
   "execution_count": 145,
   "metadata": {},
   "outputs": [
    {
     "data": {
      "text/plain": [
       "array([[-2.048     , -2.048     ],\n",
       "       [-2.048     , -2.048     ],\n",
       "       [-2.048     , -2.048     ],\n",
       "       [-2.048     , -2.048     ],\n",
       "       [-2.048     , -2.048     ],\n",
       "       [-2.048     , -2.048     ],\n",
       "       [-2.048     , -2.048     ],\n",
       "       [-2.048     , -2.048     ],\n",
       "       [-2.048     , -2.048     ],\n",
       "       [-2.048     , -2.048     ],\n",
       "       [ 0.35412007,  1.82673198],\n",
       "       [ 0.77129739, -0.43499691],\n",
       "       [-1.16816874, -0.39294197],\n",
       "       [-1.50494347,  1.1386854 ],\n",
       "       [ 1.22017522,  1.93551422],\n",
       "       [-0.92646853, -0.02815426],\n",
       "       [-1.60304637, -0.45775959],\n",
       "       [ 1.22432491, -0.44499107],\n",
       "       [-2.03222572,  0.42912558],\n",
       "       [-1.65578363, -0.92128502],\n",
       "       [-1.94327372, -0.61491556],\n",
       "       [-0.25302609,  1.67027628],\n",
       "       [ 0.60250036,  0.96066358],\n",
       "       [-1.65045784, -0.33412761],\n",
       "       [ 0.09177776,  1.99264431],\n",
       "       [ 1.30137438,  0.87914784],\n",
       "       [-0.45650813, -1.84390617],\n",
       "       [-0.5535121 , -0.72823996],\n",
       "       [ 1.14465955, -1.84343007],\n",
       "       [ 1.29216349,  0.31434323]])"
      ]
     },
     "execution_count": 145,
     "metadata": {},
     "output_type": "execute_result"
    }
   ],
   "source": [
    "p"
   ]
  },
  {
   "cell_type": "code",
   "execution_count": 141,
   "metadata": {},
   "outputs": [
    {
     "data": {
      "text/plain": [
       "(30,)"
      ]
     },
     "execution_count": 141,
     "metadata": {},
     "output_type": "execute_result"
    }
   ],
   "source": [
    "ppp=np.zeros(p.shape)\n",
    "#ppp=np.where(target(v.T)>target(p.T),v,p)\n",
    "target(v.T).shape"
   ]
  },
  {
   "cell_type": "code",
   "execution_count": 64,
   "metadata": {},
   "outputs": [
    {
     "data": {
      "text/plain": [
       "array([-0.89420681, -0.61551025])"
      ]
     },
     "execution_count": 64,
     "metadata": {},
     "output_type": "execute_result"
    }
   ],
   "source": [
    "v[0]"
   ]
  },
  {
   "cell_type": "code",
   "execution_count": null,
   "metadata": {},
   "outputs": [],
   "source": []
  }
 ],
 "metadata": {
  "kernelspec": {
   "display_name": "Python 3",
   "language": "python",
   "name": "python3"
  },
  "language_info": {
   "codemirror_mode": {
    "name": "ipython",
    "version": 3
   },
   "file_extension": ".py",
   "mimetype": "text/x-python",
   "name": "python",
   "nbconvert_exporter": "python",
   "pygments_lexer": "ipython3",
   "version": "3.7.6"
  }
 },
 "nbformat": 4,
 "nbformat_minor": 4
}
