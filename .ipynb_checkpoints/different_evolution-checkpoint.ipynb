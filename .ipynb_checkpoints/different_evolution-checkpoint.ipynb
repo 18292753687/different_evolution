{
 "cells": [
  {
   "cell_type": "code",
   "execution_count": 210,
   "metadata": {},
   "outputs": [],
   "source": [
    "import numpy as np\n",
    "# target funciton\n",
    "\n",
    "def target(x):\n",
    "    return 100*(x[0]**2-x[1])**2+(1-x[0])**2\n",
    "\n",
    "size=30 #编码个数\n",
    "dimen=2 #编码维数\n",
    "\n",
    "x_max=np.array([2.048,2.048])\n",
    "x_min=np.array([-2.048,-2.048])\n",
    "\n",
    "gener=50 #进化次数\n",
    "F=1.2  #变异因子\n",
    "cr=0.6*np.ones(dimen) #交叉因子"
   ]
  },
  {
   "cell_type": "code",
   "execution_count": 211,
   "metadata": {},
   "outputs": [],
   "source": [
    "# initial x\n",
    "p=x_min+(x_max-x_min)*np.random.rand(size,dimen)\n",
    "# global best"
   ]
  },
  {
   "cell_type": "code",
   "execution_count": 212,
   "metadata": {},
   "outputs": [],
   "source": [
    "# evolution\n",
    "# 循环嵌套版本\n",
    "x_argmax=[]\n",
    "target_max=[]\n",
    "for g in range(gener):\n",
    "    # the g th generation\n",
    "    v=h=np.empty((size,dimen))\n",
    "\n",
    "    for s in range(size):\n",
    "        # the s th x\n",
    "        \n",
    "        # aberrance\n",
    "        r1=r2=r3=0\n",
    "        while r1==r2 or r1==r3 or r2==r3 or r1==s or r2==s or r3==s :\n",
    "            r1=int(size*np.random.rand(1)[0])\n",
    "            r2=int(size*np.random.rand(1)[0])\n",
    "            r3=int(size*np.random.rand(1)[0])\n",
    "        h[s]=p[r1]+F*(p[r2]-p[r3])\n",
    "        h[s]=np.where(h[s]<x_max,h[s],x_max)\n",
    "        h[s]=np.where(h[s]>x_min,h[s],x_min)\n",
    "        \n",
    "        #interact\n",
    "        temp=np.random.rand(dimen)\n",
    "        v[s]=np.where(temp<cr,h[s],p[s])\n",
    "        \n",
    "        #select\n",
    "        #p[s]=np.where(target(v[s].T)>target(p[s].T),v[s],p[s]) \n",
    "        \n",
    "        #update\n",
    "    \n",
    "    "
   ]
  },
  {
   "cell_type": "code",
   "execution_count": 213,
   "metadata": {},
   "outputs": [
    {
     "data": {
      "text/plain": [
       "array([False, False, False, False, False, False, False, False, False,\n",
       "       False, False, False, False, False, False, False, False, False,\n",
       "       False, False, False, False, False, False, False, False, False,\n",
       "       False, False, False])"
      ]
     },
     "execution_count": 213,
     "metadata": {},
     "output_type": "execute_result"
    }
   ],
   "source": [
    "r=np.around(size*np.random.random((size,3))).T\n",
    "r_index=np.array([range(size),range(size),range(size)])\n",
    "#(r==r_index or r.T[0]==r.T[1]  or r.T[0]==r.T[2] or r.T[1]==r.T[2]).any()\n",
    "sum(r[0]==r[1]) \n",
    "sum(r[0]==r[2])\n",
    "sum(r[1]==r[2])\n",
    "r[0]==r[1]"
   ]
  },
  {
   "cell_type": "code",
   "execution_count": 214,
   "metadata": {},
   "outputs": [
    {
     "data": {
      "text/plain": [
       "1039.8161000239243"
      ]
     },
     "execution_count": 214,
     "metadata": {},
     "output_type": "execute_result"
    }
   ],
   "source": [
    "target(v[s].T)#>target(p[s].T)"
   ]
  },
  {
   "cell_type": "code",
   "execution_count": 215,
   "metadata": {},
   "outputs": [
    {
     "data": {
      "text/plain": [
       "2387.8945855056836"
      ]
     },
     "execution_count": 215,
     "metadata": {},
     "output_type": "execute_result"
    }
   ],
   "source": [
    "max(target(p.T))"
   ]
  },
  {
   "cell_type": "code",
   "execution_count": 216,
   "metadata": {},
   "outputs": [
    {
     "data": {
      "text/plain": [
       "array([[ 9.12693229e-02,  1.81749989e+00],\n",
       "       [ 7.74993985e-01,  2.02166111e+00],\n",
       "       [ 8.64036397e-01,  1.88111829e+00],\n",
       "       [-1.95403264e-01, -1.09725304e+00],\n",
       "       [-1.62311876e+00, -1.72481690e-01],\n",
       "       [-2.03149358e+00, -7.50230414e-01],\n",
       "       [-1.36161924e+00, -1.72895993e+00],\n",
       "       [ 1.93169831e+00, -1.14122992e+00],\n",
       "       [-2.34695139e-01,  1.61010266e+00],\n",
       "       [ 1.11235501e+00,  1.89050637e+00],\n",
       "       [-8.97642685e-01,  1.99648155e+00],\n",
       "       [-1.34376243e+00, -1.15556154e+00],\n",
       "       [ 1.71322858e+00, -3.16816951e-01],\n",
       "       [ 1.56462114e+00,  8.20443024e-01],\n",
       "       [-9.50614349e-04, -4.03213580e-02],\n",
       "       [-1.91859357e+00,  2.29741119e-01],\n",
       "       [ 1.52517874e-01, -7.18252863e-01],\n",
       "       [ 1.69918124e+00, -1.52686178e+00],\n",
       "       [ 6.99663111e-01,  2.03182361e+00],\n",
       "       [ 1.52967593e+00, -1.36912380e+00],\n",
       "       [ 2.04323116e+00,  7.63030983e-01],\n",
       "       [ 1.12514842e-01, -5.54516666e-01],\n",
       "       [ 1.51566320e+00,  3.05406759e-01],\n",
       "       [-1.53995924e+00, -1.64109489e-01],\n",
       "       [ 7.95069985e-01, -1.73981306e+00],\n",
       "       [ 7.14484753e-02, -9.61091725e-02],\n",
       "       [-1.42603656e+00,  1.93057837e-01],\n",
       "       [-4.38172063e-01, -9.68404883e-01],\n",
       "       [ 9.91529897e-02, -1.21548828e+00],\n",
       "       [-1.08161552e+00, -1.65167283e+00]])"
      ]
     },
     "execution_count": 216,
     "metadata": {},
     "output_type": "execute_result"
    }
   ],
   "source": [
    "p"
   ]
  },
  {
   "cell_type": "code",
   "execution_count": null,
   "metadata": {},
   "outputs": [],
   "source": []
  },
  {
   "cell_type": "code",
   "execution_count": null,
   "metadata": {},
   "outputs": [],
   "source": []
  }
 ],
 "metadata": {
  "kernelspec": {
   "display_name": "Python 3",
   "language": "python",
   "name": "python3"
  },
  "language_info": {
   "codemirror_mode": {
    "name": "ipython",
    "version": 3
   },
   "file_extension": ".py",
   "mimetype": "text/x-python",
   "name": "python",
   "nbconvert_exporter": "python",
   "pygments_lexer": "ipython3",
   "version": "3.7.6"
  }
 },
 "nbformat": 4,
 "nbformat_minor": 4
}
