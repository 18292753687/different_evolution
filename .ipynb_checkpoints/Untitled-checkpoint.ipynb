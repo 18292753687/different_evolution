{
 "cells": [
  {
   "cell_type": "code",
   "execution_count": 2,
   "metadata": {},
   "outputs": [],
   "source": [
    "import numpy as np\n",
    "# target funciton\n",
    "\n",
    "def target(x):\n",
    "    return 100*(x[0]**2-x[1])**2+(1-x[0])**2\n",
    "\n",
    "size=30 #编码个数\n",
    "dimen=2 #编码维数\n",
    "\n",
    "x_max=np.array([2.048,2.048])\n",
    "x_min=np.array([-2.048,-2.048])\n",
    "\n",
    "gener=500 #进化次数\n",
    "F=1.2  #变异因子\n",
    "cr=0.6*np.ones(dimen) #交叉因子"
   ]
  },
  {
   "cell_type": "code",
   "execution_count": 8,
   "metadata": {},
   "outputs": [
    {
     "data": {
      "text/plain": [
       "(2, 500)"
      ]
     },
     "execution_count": 8,
     "metadata": {},
     "output_type": "execute_result"
    }
   ],
   "source": [
    "# initial x\n",
    "p=x_min+(x_max-x_min)*np.random.rand(size,dimen)\n",
    "target_his=np.zeros((2,gener))\n",
    "target_his."
   ]
  },
  {
   "cell_type": "code",
   "execution_count": null,
   "metadata": {},
   "outputs": [],
   "source": []
  }
 ],
 "metadata": {
  "kernelspec": {
   "display_name": "Python 3",
   "language": "python",
   "name": "python3"
  },
  "language_info": {
   "codemirror_mode": {
    "name": "ipython",
    "version": 3
   },
   "file_extension": ".py",
   "mimetype": "text/x-python",
   "name": "python",
   "nbconvert_exporter": "python",
   "pygments_lexer": "ipython3",
   "version": "3.7.6"
  }
 },
 "nbformat": 4,
 "nbformat_minor": 4
}
