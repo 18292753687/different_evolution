{
 "cells": [
  {
   "cell_type": "code",
   "execution_count": 20,
   "metadata": {},
   "outputs": [],
   "source": [
    "import numpy as np\n",
    "import matplotlib.pyplot as plt\n",
    "import time\n",
    "# target funciton\n",
    "\n",
    "def target(x):\n",
    "    return 100*(x[0]**2-x[1])**2+(1-x[0])**2\n",
    "\n",
    "size=30 #编码个数\n",
    "dimen=2 #编码维数\n",
    "\n",
    "x_max=np.array([2.048,2.048])\n",
    "x_min=np.array([-2.048,-2.048])\n",
    "\n",
    "gener=10 #进化次数\n",
    "F=1.2  #变异因子\n",
    "cr=0.6 #交叉因子"
   ]
  },
  {
   "cell_type": "code",
   "execution_count": 21,
   "metadata": {},
   "outputs": [],
   "source": [
    "# initial x\n",
    "p=x_min+(x_max-x_min)*np.random.rand(size,dimen)\n",
    "# global best\n",
    "x_his=[]\n",
    "target_his=[]"
   ]
  },
  {
   "cell_type": "code",
   "execution_count": 26,
   "metadata": {},
   "outputs": [],
   "source": [
    "# evolution\n",
    "t1=time.time()\n",
    "for g in range(gener):\n",
    "    # the g th generation\n",
    "    v=h=np.empty((size,dimen))\n",
    "\n",
    "    for s in range(size):\n",
    "        # the s th x\n",
    "        \n",
    "        # aberrance\n",
    "        r1=r2=r3=0\n",
    "        while r1==r2 or r1==r3 or r2==r3 or r1==s or r2==s or r3==s :\n",
    "            r1=int(size*np.random.rand(1)[0])\n",
    "            r2=int(size*np.random.rand(1)[0])\n",
    "            r3=int(size*np.random.rand(1)[0])\n",
    "        h[s]=p[r1]+F*(p[r2]-p[r3])\n",
    "        h[s]=np.where(h[s]<x_max,h[s],x_max)\n",
    "        h[s]=np.where(h[s]>x_min,h[s],x_min)\n",
    "        \n",
    "        #interact\n",
    "        temp=np.random.random()\n",
    "        v[s]=np.where(temp<cr,h[s],p[s])\n",
    "        \n",
    "        #select\n",
    "        p[s]=np.where(target(v[s])>target(p[s]),v[s],p[s]) \n",
    "    \n",
    "    #update\n",
    "    opt_x=np.argmax(target(p))\n",
    "    x_his.append(p[opt_x])\n",
    "    opt_target=np.max(target(p))\n",
    "    target_his.append(opt_target)\n",
    "\n",
    "t2=time.time()"
   ]
  },
  {
   "cell_type": "code",
   "execution_count": 27,
   "metadata": {},
   "outputs": [
    {
     "name": "stdout",
     "output_type": "stream",
     "text": [
      "花费时间0.0287s\n",
      "最大值3905.9262\n",
      "[ 2.048 -2.048]\n"
     ]
    },
    {
     "data": {
      "image/png": "[encoded data removed]",
      "text/plain": [
       "<Figure size 432x288 with 1 Axes>"
      ]
     },
     "metadata": {
      "needs_background": "light"
     },
     "output_type": "display_data"
    }
   ],
   "source": [
    "plt.figure(1)\n",
    "plt.plot(target_his)\n",
    "print('花费时间%.4fs'%(t2-t1))\n",
    "print('最大值%.4f'%target_his[-1])\n",
    "print(x_his[-1])"
   ]
  },
  {
   "cell_type": "code",
   "execution_count": null,
   "metadata": {},
   "outputs": [],
   "source": []
  }
 ],
 "metadata": {
  "kernelspec": {
   "display_name": "Python 3",
   "language": "python",
   "name": "python3"
  },
  "language_info": {
   "codemirror_mode": {
    "name": "ipython",
    "version": 3
   },
   "file_extension": ".py",
   "mimetype": "text/x-python",
   "name": "python",
   "nbconvert_exporter": "python",
   "pygments_lexer": "ipython3",
   "version": "3.7.6"
  }
 },
 "nbformat": 4,
 "nbformat_minor": 4
}
